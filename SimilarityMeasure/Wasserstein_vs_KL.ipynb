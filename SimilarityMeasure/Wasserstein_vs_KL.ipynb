{
 "cells": [
  {
   "cell_type": "code",
   "execution_count": 1,
   "metadata": {},
   "outputs": [
    {
     "data": {
      "text/plain": [
       "'0.23.4'"
      ]
     },
     "execution_count": 1,
     "metadata": {},
     "output_type": "execute_result"
    }
   ],
   "source": [
    "import pandas\n",
    "pandas.__version__"
   ]
  },
  {
   "cell_type": "code",
   "execution_count": 4,
   "metadata": {},
   "outputs": [],
   "source": [
    "import numpy as np\n",
    "import pandas as pd\n",
    "import matplotlib.pyplot as plt\n",
    "from scipy.stats import wasserstein_distance\n",
    "\n",
    "%matplotlib inline"
   ]
  },
  {
   "cell_type": "markdown",
   "metadata": {},
   "source": [
    "### Wasserstein Distance Demo"
   ]
  },
  {
   "cell_type": "code",
   "execution_count": 117,
   "metadata": {},
   "outputs": [],
   "source": [
    "source_sample = np.array([1, 2, 3])\n",
    "target_sample = np.array([5, 6, 7])"
   ]
  },
  {
   "cell_type": "code",
   "execution_count": 95,
   "metadata": {},
   "outputs": [],
   "source": [
    "def plot_block(sample):\n",
    "    labels, counts = np.unique(sample, return_counts=True)\n",
    "    n = len(sample)\n",
    "    plt.bar(labels, counts / n, align='center');"
   ]
  },
  {
   "cell_type": "code",
   "execution_count": 96,
   "metadata": {},
   "outputs": [
    {
     "data": {
      "image/png": "[encoded data removed]",
      "text/plain": [
       "<matplotlib.figure.Figure at 0x10f5cd198>"
      ]
     },
     "metadata": {
      "needs_background": "light"
     },
     "output_type": "display_data"
    }
   ],
   "source": [
    "plot_block(source_sample)\n",
    "plot_block(target_sample)\n",
    "plt.ylim([0, 0.5])\n",
    "plt.xticks(np.arange(0, 8, step = 1))\n",
    "plt.legend(['source distribution', 'target distribution'])\n",
    "plt.title('Histogram of Source and Target Distribution');"
   ]
  },
  {
   "cell_type": "code",
   "execution_count": 97,
   "metadata": {},
   "outputs": [
    {
     "name": "stdout",
     "output_type": "stream",
     "text": [
      "Wasserstein Distance = 4.0\n"
     ]
    }
   ],
   "source": [
    "wd = wasserstein_distance(source_sample, target_sample)\n",
    "print('Wasserstein Distance = {}'.format(wd))"
   ]
  },
  {
   "cell_type": "markdown",
   "metadata": {},
   "source": [
    "### KL Divergence Demo"
   ]
  },
  {
   "cell_type": "code",
   "execution_count": 146,
   "metadata": {},
   "outputs": [],
   "source": [
    "def KL(P,Q):\n",
    "    \"\"\"\n",
    "    source: \n",
    "    https://datascience.stackexchange.com/questions/9262/calculating-kl-divergence-in-python\n",
    "    \n",
    "    input:\n",
    "        P -- numpy array for probabilty mass function, P[i] = density of i in distribution P\n",
    "        Q -- numpy array for probabilty mass function, Q[i] = density of i in distribution Q\n",
    "    \"\"\"\n",
    "    # avoid numerical issue\n",
    "    epsilon = 0.00001\n",
    "    P = P+epsilon\n",
    "    Q = Q+epsilon\n",
    "    divergence = np.sum(P*np.log(P/Q))\n",
    "    # undefined in this case\n",
    "    if divergence > 10:\n",
    "        return 0\n",
    "    return divergence"
   ]
  },
  {
   "cell_type": "code",
   "execution_count": 147,
   "metadata": {},
   "outputs": [],
   "source": [
    "def sample_to_pmf(sample_arr, max_n = 30):\n",
    "    \"\"\"\n",
    "    input:\n",
    "        sample_arr -- array of samples \n",
    "    output:\n",
    "        pmf_arr -- pmf_arr[i] = density of i in the (empirical) distribution\n",
    "    \"\"\"\n",
    "    labels, counts = np.unique(sample_arr, return_counts=True)\n",
    "    n = sum(counts)\n",
    "    pmf_dict = {label: count / n for label, count in zip(labels, counts)}\n",
    "    # inclusive max_label\n",
    "    pmf_arr = np.array([pmf_dict.get(label, 0) for label in range(max_n)]) \n",
    "    return pmf_arr"
   ]
  },
  {
   "cell_type": "code",
   "execution_count": 160,
   "metadata": {},
   "outputs": [],
   "source": [
    "source_sample = np.array([1, 2, 3])\n",
    "target_sample = np.array([5, 6, 7])\n",
    "source_dist = sample_to_pmf(source_sample)\n",
    "target_dist = sample_to_pmf(target_sample)"
   ]
  },
  {
   "cell_type": "code",
   "execution_count": 161,
   "metadata": {},
   "outputs": [
    {
     "name": "stdout",
     "output_type": "stream",
     "text": [
      "KL Divergence = 0\n"
     ]
    }
   ],
   "source": [
    "kl = KL(source_dist, target_dist)\n",
    "print('KL Divergence = {}'.format(kl))"
   ]
  },
  {
   "cell_type": "markdown",
   "metadata": {},
   "source": [
    "### Wasserstein Distance wrt Source Distribution's Mean"
   ]
  },
  {
   "cell_type": "code",
   "execution_count": 181,
   "metadata": {},
   "outputs": [],
   "source": [
    "def get_discrete_uniform_sample(mean):\n",
    "    return [mean - 1, mean, mean + 1]"
   ]
  },
  {
   "cell_type": "code",
   "execution_count": 182,
   "metadata": {},
   "outputs": [],
   "source": [
    "wd_ls = []\n",
    "mean_ls = [mean for mean in range(2, 30)]\n",
    "for mean in mean_ls:\n",
    "    source_sample = get_discrete_uniform_sample(mean)\n",
    "    wd = wasserstein_distance(source_sample, target_sample)\n",
    "    wd_ls.append(wd)"
   ]
  },
  {
   "cell_type": "code",
   "execution_count": 183,
   "metadata": {},
   "outputs": [
    {
     "data": {
      "image/png": "[encoded data removed]",
      "text/plain": [
       "<matplotlib.figure.Figure at 0x11840cd68>"
      ]
     },
     "metadata": {
      "needs_background": "light"
     },
     "output_type": "display_data"
    }
   ],
   "source": [
    "plt.plot(mean_ls, wd_ls)\n",
    "plt.scatter(mean_ls, wd_ls)\n",
    "plt.xlabel('Mean of Source Distribution')\n",
    "plt.ylabel('Wasserstein Distribution')\n",
    "plt.title('Wasserstein Distance Evolution wrt Source Distribution Mean');"
   ]
  },
  {
   "cell_type": "markdown",
   "metadata": {},
   "source": [
    "### KL Divergence wrt Source Distribution's Mean"
   ]
  },
  {
   "cell_type": "code",
   "execution_count": 170,
   "metadata": {},
   "outputs": [],
   "source": [
    "kl_ls = []\n",
    "mean_ls = [mean for mean in range(2, 29)]\n",
    "for mean in mean_ls:\n",
    "    source_sample = get_discrete_uniform_sample(mean)\n",
    "    source_dist = sample_to_pmf(source_sample)\n",
    "    kl = KL(source_dist, target_dist)\n",
    "    kl_ls.append(kl)"
   ]
  },
  {
   "cell_type": "code",
   "execution_count": 179,
   "metadata": {},
   "outputs": [
    {
     "data": {
      "image/png": "[encoded data removed]",
      "text/plain": [
       "<matplotlib.figure.Figure at 0x123d6a4a8>"
      ]
     },
     "metadata": {
      "needs_background": "light"
     },
     "output_type": "display_data"
    }
   ],
   "source": [
    "c_ls = ['r' if kl == 0 else 'b' for kl in kl_ls ]\n",
    "c_ls [4] = 'b'\n",
    "plt.scatter(mean_ls, kl_ls, c = c_ls)\n",
    "plt.xlabel('Mean of Source Distribution')\n",
    "plt.ylabel('Wasserstein Distribution')\n",
    "plt.title('KL Divergence Evolution wrt Source Distribution Mean');"
   ]
  },
  {
   "cell_type": "code",
   "execution_count": null,
   "metadata": {},
   "outputs": [],
   "source": []
  }
 ],
 "metadata": {
  "kernelspec": {
   "display_name": "Python 3",
   "language": "python",
   "name": "python3"
  },
  "language_info": {
   "codemirror_mode": {
    "name": "ipython",
    "version": 3
   },
   "file_extension": ".py",
   "mimetype": "text/x-python",
   "name": "python",
   "nbconvert_exporter": "python",
   "pygments_lexer": "ipython3",
   "version": "3.6.7"
  }
 },
 "nbformat": 4,
 "nbformat_minor": 2
}
