{
 "cells": [
  {
   "cell_type": "markdown",
   "metadata": {},
   "source": [
    "#### Reference\n",
    " 1. stackoverflow - generated gif in Python https://stackoverflow.com/questions/753190/programmatically-generate-video-or-animated-gif-in-python\n",
    " 2. github on GAN demo and generated gif https://github.com/aadilh/blogs/tree/new/basic-gans"
   ]
  },
  {
   "cell_type": "code",
   "execution_count": 30,
   "metadata": {},
   "outputs": [],
   "source": [
    "from PIL import Image\n",
    "import numpy as np\n",
    "import imageio"
   ]
  },
  {
   "cell_type": "code",
   "execution_count": 38,
   "metadata": {},
   "outputs": [],
   "source": [
    "ipath_data = 'data_iter_wgangp/data_%d.png'\n",
    "ipath_loss = 'loss_iter_wgangp/loss_%d.png'"
   ]
  },
  {
   "cell_type": "code",
   "execution_count": 39,
   "metadata": {},
   "outputs": [],
   "source": [
    "data_images = []\n",
    "for i in range(25):\n",
    "    data_images.append(imageio.imread(ipath_data%(i*1000)))\n",
    "imageio.mimsave('data_iter_wgangp/data_evolution.gif', data_images, fps=1.3)"
   ]
  },
  {
   "cell_type": "code",
   "execution_count": 40,
   "metadata": {},
   "outputs": [],
   "source": [
    "loss_images = []\n",
    "for i in range(25):\n",
    "    loss_images.append(imageio.imread(ipath_loss%(i*1000)))\n",
    "imageio.mimsave('loss_iter_wgangp/loss_evolution.gif', loss_images, fps=1.3)"
   ]
  },
  {
   "cell_type": "code",
   "execution_count": null,
   "metadata": {},
   "outputs": [],
   "source": []
  }
 ],
 "metadata": {
  "kernelspec": {
   "display_name": "Python 3",
   "language": "python",
   "name": "python3"
  },
  "language_info": {
   "codemirror_mode": {
    "name": "ipython",
    "version": 3
   },
   "file_extension": ".py",
   "mimetype": "text/x-python",
   "name": "python",
   "nbconvert_exporter": "python",
   "pygments_lexer": "ipython3",
   "version": "3.6.7"
  }
 },
 "nbformat": 4,
 "nbformat_minor": 2
}
